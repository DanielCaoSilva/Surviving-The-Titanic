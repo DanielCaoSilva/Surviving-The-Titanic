{
 "cells": [
  {
   "cell_type": "code",
   "execution_count": 2,
   "id": "825109fe-2158-41b0-8681-3c7b955dcd23",
   "metadata": {},
   "outputs": [],
   "source": [
    "import pandas as pd \n",
    "data = pd.read_csv(\"test_processed.csv\")\n",
    "\n",
    "partyNames = data['Name'].str.rpartition('.')\n",
    "namesDf = pd.DataFrame(data=partyNames[0])\n",
    "tempDf = namesDf.squeeze().str.rpartition(',')\n",
    "newDf = pd.DataFrame({\"Party\":tempDf[:][0],\"Prefix\":tempDf[:][2]})\n",
    "\n",
    "\n",
    "\n",
    "newData = pd.concat([data, newDf], axis = 1)\n",
    "newData.head()\n",
    "newData.rename(columns = {'0':'Party', '2':'Prefix'}, inplace = True)\n",
    "newData.head()\n",
    "newData.to_csv(\"modTest.csv\")"
   ]
  }
 ],
 "metadata": {
  "kernelspec": {
   "display_name": "Python 3 (ipykernel)",
   "language": "python",
   "name": "python3"
  },
  "language_info": {
   "codemirror_mode": {
    "name": "ipython",
    "version": 3
   },
   "file_extension": ".py",
   "mimetype": "text/x-python",
   "name": "python",
   "nbconvert_exporter": "python",
   "pygments_lexer": "ipython3",
   "version": "3.9.7"
  }
 },
 "nbformat": 4,
 "nbformat_minor": 5
}
